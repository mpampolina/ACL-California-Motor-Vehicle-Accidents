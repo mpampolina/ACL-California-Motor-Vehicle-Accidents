{
 "cells": [
  {
   "cell_type": "code",
   "execution_count": 1,
   "metadata": {},
   "outputs": [],
   "source": [
    "import json\n",
    "import os"
   ]
  },
  {
   "cell_type": "code",
   "execution_count": 45,
   "metadata": {},
   "outputs": [],
   "source": [
    "counties_path = os.path.join('data', 'counties.json')\n",
    "\n",
    "with open(counties_path) as f:\n",
    "    counties_data = json.load(f)\n",
    "\n",
    "    CA_counties = []\n",
    "    for county in counties_data['features']:\n",
    "\n",
    "        if county['properties']['STATE'] == '06':\n",
    "            CA_counties.append(county)\n",
    "    \n",
    "    CA_countiesExport = {\n",
    "        \"type\": \"FeatureCollection\",\n",
    "        \"features\": CA_counties}\n",
    "    \n",
    "    with open('CA_counties.json', 'w') as nf:\n",
    "        json.dump(CA_countiesExport, nf, indent=2)"
   ]
  },
  {
   "cell_type": "code",
   "execution_count": 44,
   "metadata": {},
   "outputs": [
    {
     "data": {
      "text/plain": [
       "58"
      ]
     },
     "execution_count": 44,
     "metadata": {},
     "output_type": "execute_result"
    }
   ],
   "source": [
    "CA_countyNames = []\n",
    "for entry in CA_counties:\n",
    "    CA_countyNames.append(entry['properties']['NAME'])\n",
    "\n",
    "len(CA_countyNames)"
   ]
  },
  {
   "cell_type": "code",
   "execution_count": 46,
   "metadata": {},
   "outputs": [
    {
     "data": {
      "text/plain": [
       "['Colusa',\n",
       " 'Glenn',\n",
       " 'Kings',\n",
       " 'Mariposa',\n",
       " 'Modoc',\n",
       " 'Sacramento',\n",
       " 'San Bernardino',\n",
       " 'Santa Barbara',\n",
       " 'Shasta',\n",
       " 'Tulare',\n",
       " 'Alameda',\n",
       " 'Alpine',\n",
       " 'Marin',\n",
       " 'Mendocino',\n",
       " 'Merced',\n",
       " 'Mono',\n",
       " 'Monterey',\n",
       " 'Napa',\n",
       " 'Nevada',\n",
       " 'Orange',\n",
       " 'Placer',\n",
       " 'Plumas',\n",
       " 'Riverside',\n",
       " 'San Benito',\n",
       " 'San Diego',\n",
       " 'San Francisco',\n",
       " 'San Joaquin',\n",
       " 'Amador',\n",
       " 'Butte',\n",
       " 'Calaveras',\n",
       " 'Contra Costa',\n",
       " 'Del Norte',\n",
       " 'El Dorado',\n",
       " 'Fresno',\n",
       " 'Humboldt',\n",
       " 'Imperial',\n",
       " 'Inyo',\n",
       " 'Kern',\n",
       " 'Lake',\n",
       " 'Lassen',\n",
       " 'Los Angeles',\n",
       " 'Madera',\n",
       " 'San Luis Obispo',\n",
       " 'San Mateo',\n",
       " 'Santa Clara',\n",
       " 'Santa Cruz',\n",
       " 'Sierra',\n",
       " 'Siskiyou',\n",
       " 'Solano',\n",
       " 'Sonoma',\n",
       " 'Stanislaus',\n",
       " 'Tehama',\n",
       " 'Trinity',\n",
       " 'Tuolumne',\n",
       " 'Ventura',\n",
       " 'Yolo',\n",
       " 'Yuba',\n",
       " 'Sutter']"
      ]
     },
     "execution_count": 46,
     "metadata": {},
     "output_type": "execute_result"
    }
   ],
   "source": [
    "CA_countyNames"
   ]
  },
  {
   "cell_type": "code",
   "execution_count": null,
   "metadata": {},
   "outputs": [],
   "source": []
  }
 ],
 "metadata": {
  "kernelspec": {
   "display_name": "Python 3",
   "language": "python",
   "name": "python3"
  },
  "language_info": {
   "codemirror_mode": {
    "name": "ipython",
    "version": 3
   },
   "file_extension": ".py",
   "mimetype": "text/x-python",
   "name": "python",
   "nbconvert_exporter": "python",
   "pygments_lexer": "ipython3",
   "version": "3.8.3"
  }
 },
 "nbformat": 4,
 "nbformat_minor": 4
}
